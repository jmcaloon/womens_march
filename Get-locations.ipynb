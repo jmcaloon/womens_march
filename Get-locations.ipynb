{
 "cells": [
  {
   "cell_type": "code",
   "execution_count": 26,
   "metadata": {},
   "outputs": [
    {
     "name": "stdout",
     "output_type": "stream",
     "text": [
      "['alabama', 'alaska', 'arizona', 'arkansas', 'california', 'colorado', 'connecticut', 'delaware', 'district of columbia', 'florida', 'georgia', 'hawaii', 'idaho', 'illinois', 'indiana', 'iowa', 'kansas', 'kentucky', 'louisiana', 'maine', 'maryland', 'massachusetts', 'michigan', 'minnesota', 'mississippi', 'missouri', 'montana', 'nebraska', 'nevada', 'new hampshire', 'new jersey', 'new mexico', 'new york', 'north carolina', 'north dakota', 'ohio', 'oklahoma', 'oregon', 'pennsylvania', 'rhode island', 'south carolina', 'south dakota', 'tennessee', 'texas', 'utah', 'vermont', 'virginia', 'washington', 'west virginia', 'wisconsin', 'wyoming']\n"
     ]
    }
   ],
   "source": [
    "from collections import Counter\n",
    "from sklearn.feature_extraction import DictVectorizer\n",
    "import numpy as np\n",
    "from sklearn.cluster import KMeans\n",
    "import sklearn.metrics as metrics\n",
    "from sklearn.metrics import silhouette_score\n",
    "from matplotlib import pyplot as plt\n",
    "import pandas as pd\n",
    "import warnings\n",
    "warnings.filterwarnings('ignore')\n",
    "\n",
    "\n",
    "tweets = pd.read_csv(\"output_got.csv\", sep=None, error_bad_lines=False, warn_bad_lines=False)\n",
    "state_coords = pd.read_csv(\"statecoordinates.csv\", sep=None, error_bad_lines=False, warn_bad_lines=False)\n",
    "\n",
    "#make state names lowercase for comparison\n",
    "lower = lambda x: x.lower()\n",
    "state_coords['State'] = state_coords['State'].apply(lower)\n",
    "\n",
    "#convert dataframe to dictionary\n",
    "state_coords = state_coords.set_index('State').T.to_dict()\n",
    "\n",
    "state_names = list(state_coords.keys())\n",
    "\n",
    "state_names.append(['dc', 'washington dc', 'washington state'])\n",
    "\n",
    "print (state_names)\n",
    "\n",
    "locations = tweets['Geo'].tolist()\n",
    "\n",
    "for location in locations:\n",
    "    found_state = False\n",
    "    for state in state_names:\n",
    "        if !found_state:\n",
    "            if state in location:\n",
    "                location = (state_coords['Latitude'], state_coords['Longitude'])\n",
    "                found_state = True\n",
    "    if !found_state:\n",
    "        location = 'None'\n",
    "    \n",
    "        \n",
    "        \n",
    "    \n",
    "\n",
    "\n",
    "\n"
   ]
  },
  {
   "cell_type": "code",
   "execution_count": null,
   "metadata": {
    "collapsed": true
   },
   "outputs": [],
   "source": []
  }
 ],
 "metadata": {
  "kernelspec": {
   "display_name": "Python 3",
   "language": "python",
   "name": "python3"
  },
  "language_info": {
   "codemirror_mode": {
    "name": "ipython",
    "version": 3
   },
   "file_extension": ".py",
   "mimetype": "text/x-python",
   "name": "python",
   "nbconvert_exporter": "python",
   "pygments_lexer": "ipython3",
   "version": "3.6.1"
  }
 },
 "nbformat": 4,
 "nbformat_minor": 2
}
