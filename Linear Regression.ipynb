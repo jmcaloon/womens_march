{
 "cells": [
  {
   "cell_type": "markdown",
   "metadata": {},
   "source": [
    "# Linear Regression"
   ]
  },
  {
   "cell_type": "code",
   "execution_count": 29,
   "metadata": {},
   "outputs": [],
   "source": [
    "import pandas as pd\n",
    "from pandas import DataFrame as df\n",
    "from pandas import Series as sr\n",
    "import numpy as np\n",
    "import matplotlib.pyplot as plt\n",
    "\n",
    "import statsmodels.api as sm\n",
    "from sklearn.linear_model import LinearRegression as lr"
   ]
  },
  {
   "cell_type": "code",
   "execution_count": 30,
   "metadata": {
    "scrolled": true
   },
   "outputs": [
    {
     "data": {
      "text/html": [
       "<div>\n",
       "<style>\n",
       "    .dataframe thead tr:only-child th {\n",
       "        text-align: right;\n",
       "    }\n",
       "\n",
       "    .dataframe thead th {\n",
       "        text-align: left;\n",
       "    }\n",
       "\n",
       "    .dataframe tbody tr th {\n",
       "        vertical-align: top;\n",
       "    }\n",
       "</style>\n",
       "<table border=\"1\" class=\"dataframe\">\n",
       "  <thead>\n",
       "    <tr style=\"text-align: right;\">\n",
       "      <th></th>\n",
       "      <th>Employment &amp; Earnings</th>\n",
       "      <th>Political Participation</th>\n",
       "      <th>Poverty &amp; Opportunity</th>\n",
       "      <th>Reproductive Rights</th>\n",
       "      <th>Health &amp; Well-Being</th>\n",
       "      <th>Work &amp; Family</th>\n",
       "      <th>Tweets Per Person</th>\n",
       "    </tr>\n",
       "    <tr>\n",
       "      <th>Name</th>\n",
       "      <th></th>\n",
       "      <th></th>\n",
       "      <th></th>\n",
       "      <th></th>\n",
       "      <th></th>\n",
       "      <th></th>\n",
       "      <th></th>\n",
       "    </tr>\n",
       "  </thead>\n",
       "  <tbody>\n",
       "    <tr>\n",
       "      <th>Rhode Island</th>\n",
       "      <td>10</td>\n",
       "      <td>24</td>\n",
       "      <td>15</td>\n",
       "      <td>15</td>\n",
       "      <td>21</td>\n",
       "      <td>5</td>\n",
       "      <td>8.960285e-12</td>\n",
       "    </tr>\n",
       "    <tr>\n",
       "      <th>Colorado</th>\n",
       "      <td>12</td>\n",
       "      <td>19</td>\n",
       "      <td>8</td>\n",
       "      <td>21</td>\n",
       "      <td>6</td>\n",
       "      <td>11</td>\n",
       "      <td>5.342430e-12</td>\n",
       "    </tr>\n",
       "    <tr>\n",
       "      <th>Massachusetts</th>\n",
       "      <td>3</td>\n",
       "      <td>5</td>\n",
       "      <td>3</td>\n",
       "      <td>14</td>\n",
       "      <td>9</td>\n",
       "      <td>24</td>\n",
       "      <td>3.275839e-12</td>\n",
       "    </tr>\n",
       "    <tr>\n",
       "      <th>Washington</th>\n",
       "      <td>17</td>\n",
       "      <td>4</td>\n",
       "      <td>15</td>\n",
       "      <td>10</td>\n",
       "      <td>14</td>\n",
       "      <td>14</td>\n",
       "      <td>2.616966e-12</td>\n",
       "    </tr>\n",
       "    <tr>\n",
       "      <th>Nevada</th>\n",
       "      <td>41</td>\n",
       "      <td>42</td>\n",
       "      <td>39</td>\n",
       "      <td>17</td>\n",
       "      <td>40</td>\n",
       "      <td>23</td>\n",
       "      <td>5.090271e-12</td>\n",
       "    </tr>\n",
       "  </tbody>\n",
       "</table>\n",
       "</div>"
      ],
      "text/plain": [
       "               Employment & Earnings  Political Participation  \\\n",
       "Name                                                            \n",
       "Rhode Island                      10                       24   \n",
       "Colorado                          12                       19   \n",
       "Massachusetts                      3                        5   \n",
       "Washington                        17                        4   \n",
       "Nevada                            41                       42   \n",
       "\n",
       "               Poverty & Opportunity  Reproductive Rights  \\\n",
       "Name                                                        \n",
       "Rhode Island                      15                   15   \n",
       "Colorado                           8                   21   \n",
       "Massachusetts                      3                   14   \n",
       "Washington                        15                   10   \n",
       "Nevada                            39                   17   \n",
       "\n",
       "               Health & Well-Being  Work & Family  Tweets Per Person  \n",
       "Name                                                                  \n",
       "Rhode Island                    21              5       8.960285e-12  \n",
       "Colorado                         6             11       5.342430e-12  \n",
       "Massachusetts                    9             24       3.275839e-12  \n",
       "Washington                      14             14       2.616966e-12  \n",
       "Nevada                          40             23       5.090271e-12  "
      ]
     },
     "execution_count": 30,
     "metadata": {},
     "output_type": "execute_result"
    }
   ],
   "source": [
    "data = pd.read_csv(\"state_rankings.csv\")\n",
    "\n",
    "data.index = data.Name\n",
    "data.drop(\"Name\", axis=1, inplace=True)\n",
    "data.sample(5)"
   ]
  },
  {
   "cell_type": "code",
   "execution_count": 31,
   "metadata": {},
   "outputs": [
    {
     "data": {
      "image/png": "[encoded data removed]",
      "text/plain": [
       "<matplotlib.figure.Figure at 0x120df52e8>"
      ]
     },
     "metadata": {},
     "output_type": "display_data"
    }
   ],
   "source": [
    "x = data.values[:, :6]\n",
    "y = data.values[:, 6]\n",
    "\n",
    "fig, axes = plt.subplots(2, 3, figsize=(10, 6))\n",
    "\n",
    "for i in range(6):\n",
    "    j = i//3\n",
    "    k = i%3\n",
    "    axes[j][k].scatter(x[:, i].reshape(-1, 1), y)\n",
    "    axes[j][k].set_title(data.columns[i])\n",
    "plt.show()"
   ]
  },
  {
   "cell_type": "markdown",
   "metadata": {},
   "source": [
    "__all attributes__"
   ]
  },
  {
   "cell_type": "code",
   "execution_count": 32,
   "metadata": {},
   "outputs": [
    {
     "name": "stdout",
     "output_type": "stream",
     "text": [
      "                            OLS Regression Results                            \n",
      "==============================================================================\n",
      "Dep. Variable:                      y   R-squared:                       0.154\n",
      "Model:                            OLS   Adj. R-squared:                  0.039\n",
      "Method:                 Least Squares   F-statistic:                     1.336\n",
      "Date:                Fri, 08 Dec 2017   Prob (F-statistic):              0.262\n",
      "Time:                        19:08:30   Log-Likelihood:                 1196.1\n",
      "No. Observations:                  50   AIC:                            -2380.\n",
      "Df Residuals:                      44   BIC:                            -2369.\n",
      "Df Model:                           6                                         \n",
      "Covariance Type:            nonrobust                                         \n",
      "==============================================================================\n",
      "                 coef    std err          t      P>|t|      [0.025      0.975]\n",
      "------------------------------------------------------------------------------\n",
      "x1         -9.181e-14   3.33e-13     -0.276      0.784   -7.63e-13    5.79e-13\n",
      "x2          7.782e-14   1.24e-13      0.626      0.535   -1.73e-13    3.28e-13\n",
      "x3          1.096e-13   3.59e-13      0.305      0.762   -6.15e-13    8.34e-13\n",
      "x4         -1.127e-13   1.36e-13     -0.827      0.413   -3.87e-13    1.62e-13\n",
      "x5         -3.951e-14   1.59e-13     -0.249      0.805    -3.6e-13    2.81e-13\n",
      "x6          1.865e-13   1.21e-13      1.539      0.131   -5.77e-14    4.31e-13\n",
      "==============================================================================\n",
      "Omnibus:                       90.119   Durbin-Watson:                   2.344\n",
      "Prob(Omnibus):                  0.000   Jarque-Bera (JB):             1906.288\n",
      "Skew:                           4.959   Prob(JB):                         0.00\n",
      "Kurtosis:                      31.577   Cond. No.                         22.6\n",
      "==============================================================================\n",
      "\n",
      "Warnings:\n",
      "[1] Standard Errors assume that the covariance matrix of the errors is correctly specified.\n"
     ]
    }
   ],
   "source": [
    "model = sm.OLS(y, x)\n",
    "result = model.fit()\n",
    "param_ref = result.params\n",
    "print(result.summary())"
   ]
  },
  {
   "cell_type": "markdown",
   "metadata": {},
   "source": [
    "__one attribute at a time__"
   ]
  },
  {
   "cell_type": "code",
   "execution_count": 33,
   "metadata": {},
   "outputs": [
    {
     "name": "stdout",
     "output_type": "stream",
     "text": [
      "Employment & Earnings r-squared score:\n",
      "0.0574579124715\n",
      "Political Participation r-squared score:\n",
      "0.0419260458637\n",
      "Poverty & Opportunity r-squared score:\n",
      "0.0615826767053\n",
      "Reproductive Rights r-squared score:\n",
      "0.0906410285504\n",
      "Health & Well-Being r-squared score:\n",
      "0.0694981269834\n",
      "Work & Family r-squared score:\n",
      "0.0117593616534\n"
     ]
    }
   ],
   "source": [
    "for i in range(6):\n",
    "    model2 = lr()\n",
    "    model2.fit(x[:, i].reshape(-1, 1), y)\n",
    "    model2.predict(x[:, i].reshape(-1, 1))\n",
    "    print(data.columns[i], \"r-squared score:\")\n",
    "    print(model2.score(x[:, i].reshape(-1, 1), y))"
   ]
  },
  {
   "cell_type": "markdown",
   "metadata": {},
   "source": [
    "__Attribute's influence__"
   ]
  },
  {
   "cell_type": "code",
   "execution_count": 34,
   "metadata": {},
   "outputs": [
    {
     "name": "stdout",
     "output_type": "stream",
     "text": [
      "Employment & Earnings's influence:\n",
      "1.38442445262\n",
      "Political Participation's influence:\n",
      "1.21778652029\n",
      "Poverty & Opportunity's influence:\n",
      "1.80779420997\n",
      "Reproductive Rights's influence:\n",
      "1.20590725447\n",
      "Health & Well-Being's influence:\n",
      "1.01432323242\n",
      "Work & Family's influence:\n",
      "5.03672577685\n"
     ]
    }
   ],
   "source": [
    "for i in range(6):\n",
    "    param_ref_temp = np.delete(param_ref, i, 0)\n",
    "    model = sm.OLS(y, np.delete(x, i, 1))\n",
    "    result = model.fit()\n",
    "    param_ref1 = result.params\n",
    "    print(data.columns[i]+\"\\'s influence:\")\n",
    "    print(sum(np.divide(abs(param_ref1 - param_ref_temp), abs(param_ref_temp))))"
   ]
  },
  {
   "cell_type": "code",
   "execution_count": null,
   "metadata": {
    "collapsed": true
   },
   "outputs": [],
   "source": []
  }
 ],
 "metadata": {
  "kernelspec": {
   "display_name": "Python 3",
   "language": "python",
   "name": "python3"
  },
  "language_info": {
   "codemirror_mode": {
    "name": "ipython",
    "version": 3
   },
   "file_extension": ".py",
   "mimetype": "text/x-python",
   "name": "python",
   "nbconvert_exporter": "python",
   "pygments_lexer": "ipython3",
   "version": "3.6.1"
  }
 },
 "nbformat": 4,
 "nbformat_minor": 2
}
