{
 "cells": [
  {
   "cell_type": "code",
   "execution_count": 5,
   "metadata": {},
   "outputs": [
    {
     "name": "stdout",
     "output_type": "stream",
     "text": [
      "RT @zlando: When #WomensMarch co-chair (Palestinian Linda Sarsour) tried to bury a movie fighting for #womensrights. WATCH! https://t.co/Fv…\n",
      "2017-11-14 20:08:54\n",
      "RT @zlando: When #WomensMarch co-chair (Palestinian Linda Sarsour) tried to bury a movie fighting for #womensrights. WATCH! https://t.co/Fv…\n",
      "2017-11-14 20:05:57\n",
      "#ROSEARMY #MeToo #metoomen #metoomarch #WomensMarch Come on feminists, time to actually take a stand on this and do… https://t.co/RwhyHqwlSt\n",
      "2017-11-14 20:05:36\n",
      "RT @zlando: When #WomensMarch co-chair (Palestinian Linda Sarsour) tried to bury a movie fighting for #womensrights. WATCH! https://t.co/Fv…\n",
      "2017-11-14 20:02:33\n",
      "When #WomensMarch co-chair (Palestinian Linda Sarsour) tried to bury a movie fighting for #womensrights. WATCH!… https://t.co/lzQdjXkSGA\n",
      "2017-11-14 20:01:02\n",
      "Want to understand what women, immigrants, POC, LGBQT, and others are so mad about? Listen to these women sing. Rea… https://t.co/KbA0aATkPq\n",
      "2017-11-14 19:51:38\n",
      "RT @JDIYFR: Don't Mess with Us --&gt; #WomensMarch 💪  \"Hundreds in Hollywood\"\n",
      "#ThoseDaysAreOver 💪Stop #RoyMooreChildMolester 💩\n",
      "2017-11-14 19:37:48\n",
      "RT @gwenlyn_cumyn: Keep it nasty. #womensmarch #solidarity https://t.co/3M2zXsHPGe\n",
      "2017-11-14 19:35:46\n",
      "RT @zlando: These women put their lives on the line DAILY, fighting an Islamic invasion.\n",
      "Support the women of the #IDF #Israel\n",
      "#WomensMarch…\n",
      "2017-11-14 19:05:17\n",
      "RT @zlando: #WomensMarch #womensmarchlondon \n",
      "When you march you need 2 KNOW: The Muslim women you march with allow OPPRESSION of women! Don…\n",
      "2017-11-14 19:04:27\n"
     ]
    }
   ],
   "source": [
    "import tweepy\n",
    "\n",
    "consumer_key = '3FJT3EvtOssiHYfw2xpH4Q9dR'\n",
    "consumer_secret = 'OzV47fYGizND0NJlaVYyg0ieoiwmCTHeCi9eMMAKVqCxC9QatT'\n",
    "\n",
    "access_token = '4879319992-CcCKl9DKwrsZIUItxOeUAA7GgfH5Md8XkyaKYx9'\n",
    "access_token_secret = 'Rva5W0Ttx1FDRBZW6rtUJT1GRQOjqehOWnFFBKElWrdD5'\n",
    "\n",
    "auth = tweepy.OAuthHandler(consumer_key, consumer_secret)\n",
    "auth.set_access_token(access_token, access_token_secret)\n",
    "\n",
    "api = tweepy.API(auth)\n",
    "\n",
    "# public_tweets = api.home_timeline()\n",
    "public_tweets = tweepy.Cursor(api.search, q=\"#WomensMarch\").items(10)\n",
    "for tweet in public_tweets:\n",
    "    print (tweet.text)\n",
    "    print (tweet.created_at)\n",
    "\n",
    "# # Get the User object for twitter...\n",
    "# user = api.get_user('twitter')\n",
    "\n",
    "# # Models contain the data and some helper methods\n",
    "# print user.screen_name\n",
    "# print user.followers_count\n",
    "# for friend in user.friends():\n",
    "#    print friend.screen_name\n",
    "    "
   ]
  },
  {
   "cell_type": "code",
   "execution_count": null,
   "metadata": {
    "collapsed": true
   },
   "outputs": [],
   "source": []
  }
 ],
 "metadata": {
  "kernelspec": {
   "display_name": "Python 3",
   "language": "python",
   "name": "python3"
  },
  "language_info": {
   "codemirror_mode": {
    "name": "ipython",
    "version": 3
   },
   "file_extension": ".py",
   "mimetype": "text/x-python",
   "name": "python",
   "nbconvert_exporter": "python",
   "pygments_lexer": "ipython3",
   "version": "3.6.2"
  }
 },
 "nbformat": 4,
 "nbformat_minor": 2
}
