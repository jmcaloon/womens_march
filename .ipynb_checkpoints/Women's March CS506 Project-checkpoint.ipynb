{
 "cells": [
  {
   "cell_type": "code",
   "execution_count": 16,
   "metadata": {},
   "outputs": [
    {
     "name": "stderr",
     "output_type": "stream",
     "text": [
      "b'Skipping line 954: expected 10 fields, saw 11\\nSkipping line 5575: expected 10 fields, saw 11\\nSkipping line 6074: expected 10 fields, saw 11\\nSkipping line 7715: expected 10 fields, saw 11\\nSkipping line 7834: expected 10 fields, saw 11\\nSkipping line 8418: expected 10 fields, saw 11\\n'\n"
     ]
    }
   ],
   "source": [
    "import tweepy\n",
    "import got3 as got\n",
    "import pandas as pd\n",
    "import csv\n",
    "\n",
    "consumer_key = '3FJT3EvtOssiHYfw2xpH4Q9dR'\n",
    "consumer_secret = 'OzV47fYGizND0NJlaVYyg0ieoiwmCTHeCi9eMMAKVqCxC9QatT'\n",
    "\n",
    "access_token = '4879319992-CcCKl9DKwrsZIUItxOeUAA7GgfH5Md8XkyaKYx9'\n",
    "access_token_secret = 'Rva5W0Ttx1FDRBZW6rtUJT1GRQOjqehOWnFFBKElWrdD5'\n",
    "\n",
    "auth = tweepy.OAuthHandler(consumer_key, consumer_secret)\n",
    "auth.set_access_token(access_token, access_token_secret)\n",
    "\n",
    "api = tweepy.API(auth)\n",
    "\n",
    "# public_tweets = api.home_timeline()\n",
    "# public_tweets = tweepy.Cursor(api.search, q=\"#WomensMarch\").items(10)\n",
    "# for tweet in public_tweets:\n",
    "#     print (tweet.text)\n",
    "#     print (tweet.created_at)\n",
    "\n",
    "\n",
    "them_tweets = pd.read_csv(\"output_got.csv\", sep=';', header=None)\n",
    "\n",
    "# # Get the User object for twitter...\n",
    "# user = api.get_user('twitter')\n",
    "\n",
    "# # Models contain the data and some helper methods\n",
    "# print user.screen_name\n",
    "# print user.followers_count\n",
    "# for friend in user.friends():\n",
    "#    print friend.screen_name\n",
    "    "
   ]
  },
  {
   "cell_type": "code",
   "execution_count": null,
   "metadata": {
    "collapsed": true
   },
   "outputs": [],
   "source": []
  }
 ],
 "metadata": {
  "kernelspec": {
   "display_name": "Python 3",
   "language": "python",
   "name": "python3"
  },
  "language_info": {
   "codemirror_mode": {
    "name": "ipython",
    "version": 3
   },
   "file_extension": ".py",
   "mimetype": "text/x-python",
   "name": "python",
   "nbconvert_exporter": "python",
   "pygments_lexer": "ipython3",
   "version": "3.6.2"
  }
 },
 "nbformat": 4,
 "nbformat_minor": 2
}
