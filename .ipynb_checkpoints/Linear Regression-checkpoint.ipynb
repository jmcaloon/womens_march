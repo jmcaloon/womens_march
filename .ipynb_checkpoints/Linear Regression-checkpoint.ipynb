{
 "cells": [
  {
   "cell_type": "markdown",
   "metadata": {},
   "source": [
    "# Linear Regression"
   ]
  },
  {
   "cell_type": "code",
   "execution_count": 1,
   "metadata": {},
   "outputs": [
    {
     "name": "stderr",
     "output_type": "stream",
     "text": [
      "D:\\Anaconda3\\lib\\site-packages\\statsmodels\\compat\\pandas.py:56: FutureWarning: The pandas.core.datetools module is deprecated and will be removed in a future version. Please use the pandas.tseries module instead.\n",
      "  from pandas.core import datetools\n"
     ]
    }
   ],
   "source": [
    "import pandas as pd\n",
    "from pandas import DataFrame as df\n",
    "from pandas import Series as sr\n",
    "import numpy as np\n",
    "import matplotlib.pyplot as plt\n",
    "\n",
    "import statsmodels.api as sm\n",
    "from sklearn.linear_model import LinearRegression as lr"
   ]
  },
  {
   "cell_type": "code",
   "execution_count": 12,
   "metadata": {
    "scrolled": true
   },
   "outputs": [
    {
     "data": {
      "text/html": [
       "<div>\n",
       "<style>\n",
       "    .dataframe thead tr:only-child th {\n",
       "        text-align: right;\n",
       "    }\n",
       "\n",
       "    .dataframe thead th {\n",
       "        text-align: left;\n",
       "    }\n",
       "\n",
       "    .dataframe tbody tr th {\n",
       "        vertical-align: top;\n",
       "    }\n",
       "</style>\n",
       "<table border=\"1\" class=\"dataframe\">\n",
       "  <thead>\n",
       "    <tr style=\"text-align: right;\">\n",
       "      <th></th>\n",
       "      <th>Employment &amp; Earnings</th>\n",
       "      <th>Political Participation</th>\n",
       "      <th>Poverty &amp; Opportunity</th>\n",
       "      <th>Reproductive Rights</th>\n",
       "      <th>Health &amp; Well-Being</th>\n",
       "      <th>Work &amp; Family</th>\n",
       "      <th>Count</th>\n",
       "    </tr>\n",
       "    <tr>\n",
       "      <th>Name</th>\n",
       "      <th></th>\n",
       "      <th></th>\n",
       "      <th></th>\n",
       "      <th></th>\n",
       "      <th></th>\n",
       "      <th></th>\n",
       "      <th></th>\n",
       "    </tr>\n",
       "  </thead>\n",
       "  <tbody>\n",
       "    <tr>\n",
       "      <th>Wyoming</th>\n",
       "      <td>28</td>\n",
       "      <td>34</td>\n",
       "      <td>23</td>\n",
       "      <td>35</td>\n",
       "      <td>20</td>\n",
       "      <td>47</td>\n",
       "      <td>3</td>\n",
       "    </tr>\n",
       "    <tr>\n",
       "      <th>Nebraska</th>\n",
       "      <td>31</td>\n",
       "      <td>37</td>\n",
       "      <td>18</td>\n",
       "      <td>50</td>\n",
       "      <td>5</td>\n",
       "      <td>19</td>\n",
       "      <td>8</td>\n",
       "    </tr>\n",
       "    <tr>\n",
       "      <th>Arkansas</th>\n",
       "      <td>47</td>\n",
       "      <td>47</td>\n",
       "      <td>50</td>\n",
       "      <td>43</td>\n",
       "      <td>47</td>\n",
       "      <td>8</td>\n",
       "      <td>54</td>\n",
       "    </tr>\n",
       "    <tr>\n",
       "      <th>Idaho</th>\n",
       "      <td>50</td>\n",
       "      <td>40</td>\n",
       "      <td>43</td>\n",
       "      <td>48</td>\n",
       "      <td>14</td>\n",
       "      <td>46</td>\n",
       "      <td>17</td>\n",
       "    </tr>\n",
       "    <tr>\n",
       "      <th>Alaska</th>\n",
       "      <td>7</td>\n",
       "      <td>33</td>\n",
       "      <td>12</td>\n",
       "      <td>29</td>\n",
       "      <td>27</td>\n",
       "      <td>15</td>\n",
       "      <td>4</td>\n",
       "    </tr>\n",
       "  </tbody>\n",
       "</table>\n",
       "</div>"
      ],
      "text/plain": [
       "          Employment & Earnings  Political Participation  \\\n",
       "Name                                                       \n",
       "Wyoming                      28                       34   \n",
       "Nebraska                     31                       37   \n",
       "Arkansas                     47                       47   \n",
       "Idaho                        50                       40   \n",
       "Alaska                        7                       33   \n",
       "\n",
       "          Poverty & Opportunity  Reproductive Rights  Health & Well-Being  \\\n",
       "Name                                                                        \n",
       "Wyoming                      23                   35                   20   \n",
       "Nebraska                     18                   50                    5   \n",
       "Arkansas                     50                   43                   47   \n",
       "Idaho                        43                   48                   14   \n",
       "Alaska                       12                   29                   27   \n",
       "\n",
       "          Work & Family  Count  \n",
       "Name                            \n",
       "Wyoming              47      3  \n",
       "Nebraska             19      8  \n",
       "Arkansas              8     54  \n",
       "Idaho                46     17  \n",
       "Alaska               15      4  "
      ]
     },
     "execution_count": 12,
     "metadata": {},
     "output_type": "execute_result"
    }
   ],
   "source": [
    "data = pd.read_csv(\"state_rankings.csv\")\n",
    "\n",
    "data.index = data.Name\n",
    "data.drop(\"Name\", axis=1, inplace=True)\n",
    "data.sample(5)"
   ]
  },
  {
   "cell_type": "code",
   "execution_count": 11,
   "metadata": {},
   "outputs": [
    {
     "data": {
      "image/png": "[encoded data removed]",
      "text/plain": [
       "<matplotlib.figure.Figure at 0x1f096ac5080>"
      ]
     },
     "metadata": {},
     "output_type": "display_data"
    }
   ],
   "source": [
    "x = data.values[:, :6]\n",
    "y = data.values[:, 6]\n",
    "\n",
    "fig, axes = plt.subplots(2, 3, figsize=(10, 6))\n",
    "\n",
    "for i in range(6):\n",
    "    j = i//3\n",
    "    k = i%3\n",
    "    axes[j][k].scatter(x[:, i].reshape(-1, 1), y)\n",
    "    axes[j][k].set_title(data.columns[i])\n",
    "plt.show()"
   ]
  },
  {
   "cell_type": "markdown",
   "metadata": {},
   "source": [
    "__all attributes__"
   ]
  },
  {
   "cell_type": "code",
   "execution_count": 13,
   "metadata": {},
   "outputs": [
    {
     "name": "stdout",
     "output_type": "stream",
     "text": [
      "                            OLS Regression Results                            \n",
      "==============================================================================\n",
      "Dep. Variable:                      y   R-squared:                       0.279\n",
      "Model:                            OLS   Adj. R-squared:                  0.178\n",
      "Method:                 Least Squares   F-statistic:                     2.767\n",
      "Date:                Thu, 07 Dec 2017   Prob (F-statistic):             0.0230\n",
      "Time:                        22:03:27   Log-Likelihood:                -312.27\n",
      "No. Observations:                  49   AIC:                             636.5\n",
      "Df Residuals:                      43   BIC:                             647.9\n",
      "Df Model:                           6                                         \n",
      "Covariance Type:            nonrobust                                         \n",
      "==============================================================================\n",
      "                 coef    std err          t      P>|t|      [0.025      0.975]\n",
      "------------------------------------------------------------------------------\n",
      "x1            -5.6839      4.911     -1.157      0.253     -15.587       4.219\n",
      "x2             1.4561      1.824      0.798      0.429      -2.223       5.135\n",
      "x3             4.0127      5.194      0.773      0.444      -6.462      14.488\n",
      "x4            -0.5362      2.069     -0.259      0.797      -4.708       3.636\n",
      "x5             2.4131      2.287      1.055      0.297      -2.200       7.026\n",
      "x6             1.1457      1.753      0.654      0.517      -2.390       4.681\n",
      "==============================================================================\n",
      "Omnibus:                       47.859   Durbin-Watson:                   2.050\n",
      "Prob(Omnibus):                  0.000   Jarque-Bera (JB):              189.896\n",
      "Skew:                           2.630   Prob(JB):                     5.82e-42\n",
      "Kurtosis:                      11.083   Cond. No.                         22.5\n",
      "==============================================================================\n",
      "\n",
      "Warnings:\n",
      "[1] Standard Errors assume that the covariance matrix of the errors is correctly specified.\n"
     ]
    }
   ],
   "source": [
    "model = sm.OLS(y, x)\n",
    "result = model.fit()\n",
    "param_ref = result.params\n",
    "print(result.summary())"
   ]
  },
  {
   "cell_type": "markdown",
   "metadata": {},
   "source": [
    "__one attribute at a time__"
   ]
  },
  {
   "cell_type": "code",
   "execution_count": 15,
   "metadata": {},
   "outputs": [
    {
     "name": "stdout",
     "output_type": "stream",
     "text": [
      "Employment & Earnings r-squared score:\n",
      "0.0745272489689\n",
      "Political Participation r-squared score:\n",
      "0.0102433131648\n",
      "Poverty & Opportunity r-squared score:\n",
      "0.0269266777346\n",
      "Reproductive Rights r-squared score:\n",
      "0.0773118096515\n",
      "Health & Well-Being r-squared score:\n",
      "0.000108818116242\n",
      "Work & Family r-squared score:\n",
      "0.064297647946\n"
     ]
    }
   ],
   "source": [
    "for i in range(6):\n",
    "    model2 = lr()\n",
    "    model2.fit(x[:, i].reshape(-1, 1), y)\n",
    "    model2.predict(x[:, i].reshape(-1, 1))\n",
    "    print(data.columns[i], \"r-squared score:\")\n",
    "    print(model2.score(x[:, i].reshape(-1, 1), y))"
   ]
  },
  {
   "cell_type": "markdown",
   "metadata": {},
   "source": [
    "__Attribute's influence__"
   ]
  },
  {
   "cell_type": "code",
   "execution_count": 16,
   "metadata": {},
   "outputs": [
    {
     "name": "stdout",
     "output_type": "stream",
     "text": [
      "Employment & Earnings's influence:\n",
      "3.44864390749\n",
      "Political Participation's influence:\n",
      "1.42489624508\n",
      "Poverty & Opportunity's influence:\n",
      "1.45352314257\n",
      "Reproductive Rights's influence:\n",
      "0.304007523947\n",
      "Health & Well-Being's influence:\n",
      "1.89994033004\n",
      "Work & Family's influence:\n",
      "1.3820700511\n"
     ]
    }
   ],
   "source": [
    "for i in range(6):\n",
    "    param_ref_temp = np.delete(param_ref, i, 0)\n",
    "    model = sm.OLS(y, np.delete(x, i, 1))\n",
    "    result = model.fit()\n",
    "    param_ref1 = result.params\n",
    "    print(data.columns[i]+\"\\'s influence:\")\n",
    "    print(sum(np.divide(abs(param_ref1 - param_ref_temp), abs(param_ref_temp))))"
   ]
  },
  {
   "cell_type": "code",
   "execution_count": null,
   "metadata": {
    "collapsed": true
   },
   "outputs": [],
   "source": []
  }
 ],
 "metadata": {
  "kernelspec": {
   "display_name": "Python 3",
   "language": "python",
   "name": "python3"
  },
  "language_info": {
   "codemirror_mode": {
    "name": "ipython",
    "version": 3
   },
   "file_extension": ".py",
   "mimetype": "text/x-python",
   "name": "python",
   "nbconvert_exporter": "python",
   "pygments_lexer": "ipython3",
   "version": "3.6.1"
  }
 },
 "nbformat": 4,
 "nbformat_minor": 2
}
